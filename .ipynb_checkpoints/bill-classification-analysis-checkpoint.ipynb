{
 "cells": [
  {
   "cell_type": "code",
   "execution_count": 19,
   "id": "76ad11e4-45c4-4b8d-a055-c9c7092daf44",
   "metadata": {},
   "outputs": [],
   "source": [
    "import pandas as pd\n",
    "from sklearn.model_selection import train_test_split"
   ]
  },
  {
   "cell_type": "code",
   "execution_count": 20,
   "id": "3fe76891-9b4d-4f22-abdf-f24ec2845293",
   "metadata": {},
   "outputs": [],
   "source": [
    "# Loading data from the web\n",
    "# Data was downloaded from https://www.kaggle.com/datasets/ritesaluja/bank-note-authentication-uci-data?resource=download\n",
    "bill_url = \"https://raw.githubusercontent.com/DSCI-310-2025/dsci-310-group-python2/refs/heads/main/data/BankNote_Authentication.csv\"\n",
    "bill_data = pd.read_csv(bill_url)"
   ]
  },
  {
   "cell_type": "code",
   "execution_count": 21,
   "id": "0d9ff96e-8639-40a7-869b-3954f2a3ccd8",
   "metadata": {},
   "outputs": [
    {
     "name": "stdout",
     "output_type": "stream",
     "text": [
      "0\n"
     ]
    }
   ],
   "source": [
    "# See if there are missing values\n",
    "missing_values = bill_data.isna().sum().sum()\n",
    "print(missing_values)"
   ]
  },
  {
   "cell_type": "code",
   "execution_count": 22,
   "id": "d97f06bc-b73b-49a9-bcf4-623a814e7182",
   "metadata": {},
   "outputs": [
    {
     "data": {
      "text/html": [
       "<div>\n",
       "<style scoped>\n",
       "    .dataframe tbody tr th:only-of-type {\n",
       "        vertical-align: middle;\n",
       "    }\n",
       "\n",
       "    .dataframe tbody tr th {\n",
       "        vertical-align: top;\n",
       "    }\n",
       "\n",
       "    .dataframe thead th {\n",
       "        text-align: right;\n",
       "    }\n",
       "</style>\n",
       "<table border=\"1\" class=\"dataframe\">\n",
       "  <thead>\n",
       "    <tr style=\"text-align: right;\">\n",
       "      <th></th>\n",
       "      <th>class</th>\n",
       "      <th>Count</th>\n",
       "      <th>Percentage</th>\n",
       "    </tr>\n",
       "  </thead>\n",
       "  <tbody>\n",
       "    <tr>\n",
       "      <th>0</th>\n",
       "      <td>0</td>\n",
       "      <td>762</td>\n",
       "      <td>55.539359</td>\n",
       "    </tr>\n",
       "    <tr>\n",
       "      <th>1</th>\n",
       "      <td>1</td>\n",
       "      <td>610</td>\n",
       "      <td>44.460641</td>\n",
       "    </tr>\n",
       "  </tbody>\n",
       "</table>\n",
       "</div>"
      ],
      "text/plain": [
       "   class  Count  Percentage\n",
       "0      0    762   55.539359\n",
       "1      1    610   44.460641"
      ]
     },
     "execution_count": 22,
     "metadata": {},
     "output_type": "execute_result"
    }
   ],
   "source": [
    "# Create count table\n",
    "count_table = bill_data.groupby('class').size().reset_index(name='Count')\n",
    "count_table['Percentage'] = 100 * count_table['Count'] / len(bill_data)\n",
    "\n",
    "count_table"
   ]
  },
  {
   "cell_type": "code",
   "execution_count": 29,
   "id": "b3154cf4-8544-4d7b-90f5-2e36266b25d8",
   "metadata": {},
   "outputs": [
    {
     "name": "stdout",
     "output_type": "stream",
     "text": [
      "      variance  skewness  curtosis  entropy  class\n",
      "892    0.21431  -0.69529   0.87711  0.29653      1\n",
      "465   -2.69890  12.19840   0.67661 -8.54820      0\n",
      "57     5.80700   5.00970  -2.23840  0.43878      0\n",
      "1166  -2.19790  -2.12520   1.71510  0.45171      1\n",
      "223    4.64640  10.53260  -4.58520 -4.20600      0\n"
     ]
    }
   ],
   "source": [
    "# Split data into training and testing sets\n",
    "bill_train, bill_test = train_test_split(bill_data, test_size=0.25, stratify=bill_data['class'], random_state=1)\n",
    "\n",
    "print(bill_train.head(5))"
   ]
  },
  {
   "cell_type": "code",
   "execution_count": 27,
   "id": "c03ddf2d-2b77-4711-b4e5-2171eed7b175",
   "metadata": {},
   "outputs": [
    {
     "name": "stdout",
     "output_type": "stream",
     "text": [
      "   class  Count  Percentage\n",
      "0      0    572   55.587949\n",
      "1      1    457   44.412051\n"
     ]
    }
   ],
   "source": [
    "# Create class proportions table\n",
    "class_proportions_table = bill_train.groupby('class').size().reset_index(name='Count')\n",
    "class_proportions_table['Percentage'] = 100 * class_proportions_table['Count'] / len(bill_train)\n",
    "\n",
    "print(class_proportions_table)\n",
    "\n",
    "# We notice that our \"class\" proportions were preserved when we split the data"
   ]
  },
  {
   "cell_type": "code",
   "execution_count": 43,
   "id": "a032be1e-8155-4e9b-b802-f0d6c006dae3",
   "metadata": {},
   "outputs": [
    {
     "name": "stdout",
     "output_type": "stream",
     "text": [
      "     Factor  Mean_Value\n",
      "0  variance    0.398695\n",
      "1  skewness    1.837843\n",
      "2  curtosis    1.462280\n",
      "3   entropy   -1.192189\n"
     ]
    }
   ],
   "source": [
    "# Compute mean for each factor\n",
    "means_per_column = bill_train.iloc[:, :-1].mean().reset_index()\n",
    "means_per_column.columns = ['Factor', 'Mean_Value']\n",
    "\n",
    "print(means_per_column)"
   ]
  },
  {
   "cell_type": "code",
   "execution_count": 44,
   "id": "fa614272-ea36-4e34-914b-6d904ce82ae8",
   "metadata": {},
   "outputs": [
    {
     "name": "stdout",
     "output_type": "stream",
     "text": [
      "     Factor  Maximum_Value\n",
      "0  variance         6.8248\n",
      "1  skewness        12.6247\n",
      "2  curtosis        17.6772\n",
      "3   entropy         2.1625\n"
     ]
    }
   ],
   "source": [
    "# Compute max for each factor\n",
    "max_per_column = bill_train.iloc[:, :-1].max().reset_index()\n",
    "max_per_column.columns = ['Factor', 'Maximum_Value']\n",
    "\n",
    "print(max_per_column)"
   ]
  },
  {
   "cell_type": "code",
   "execution_count": 46,
   "id": "f9f468ec-38a8-4de1-bf11-3f396892e601",
   "metadata": {},
   "outputs": [
    {
     "name": "stdout",
     "output_type": "stream",
     "text": [
      "     Factor  Minimum_Value\n",
      "0  variance        -7.0421\n",
      "1  skewness       -13.6779\n",
      "2  curtosis        -5.2861\n",
      "3   entropy        -8.5482\n"
     ]
    }
   ],
   "source": [
    "# Compute min for each factor\n",
    "min_per_column = bill_train.iloc[:, :-1].min().reset_index()\n",
    "min_per_column.columns = ['Factor', 'Minimum_Value']\n",
    "\n",
    "print(min_per_column)\n"
   ]
  },
  {
   "cell_type": "code",
   "execution_count": null,
   "id": "e4423e94-4f7d-4028-90a4-aa6afa8ef30b",
   "metadata": {},
   "outputs": [],
   "source": []
  }
 ],
 "metadata": {
  "kernelspec": {
   "display_name": "Python 3 (ipykernel)",
   "language": "python",
   "name": "python3"
  },
  "language_info": {
   "codemirror_mode": {
    "name": "ipython",
    "version": 3
   },
   "file_extension": ".py",
   "mimetype": "text/x-python",
   "name": "python",
   "nbconvert_exporter": "python",
   "pygments_lexer": "ipython3",
   "version": "3.12.8"
  }
 },
 "nbformat": 4,
 "nbformat_minor": 5
}
